{
 "metadata": {
  "kernelspec": {
   "display_name": ".NET (C#)",
   "language": "C#",
   "name": ".net-csharp"
  },
  "language_info": {
   "name": "C#"
  }
 },
 "cells": [
  {
   "cell_type": "markdown",
   "source": [
    "#Titanic App in an interactive notebook\n",
    "\n",
    "Let's take another look at out titanic app this time using an interactive notebook. We start off by importing and declaring some of the dependencies we will require. Fetching the nuget packages may take a few moments the first time it is run."
   ],
   "metadata": {
    "dotnet_interactive": {
     "language": "csharp"
    }
   }
  },
  {
   "cell_type": "code",
   "execution_count": null,
   "source": [
    "#i \"nuget:https://pkgs.dev.azure.com/dnceng/public/_packaging/dotnet5/nuget/v3/index.json\" \n",
    "#i \"nuget:https://pkgs.dev.azure.com/dnceng/public/_packaging/dotnet-tools/nuget/v3/index.json\" \n",
    "\n",
    "#r \"nuget:Microsoft.ML, 1.6.0\"\n",
    "#r \"nuget:Microsoft.ML.AutoML, 0.18.0\"\n",
    "#r \"nuget:Microsoft.Data.Analysis, 0.18.0\"\n",
    "#r \"nuget: XPlot.Plotly.Interactive, 4.0.3\""
   ],
   "outputs": [],
   "metadata": {
    "dotnet_interactive": {
     "language": "csharp"
    }
   }
  },
  {
   "cell_type": "markdown",
   "source": [
    "We will include the ML.NET imports later when we come to training our model. "
   ],
   "metadata": {}
  },
  {
   "cell_type": "code",
   "execution_count": null,
   "source": [
    "using System.IO;\n",
    "using System.Net.Http;\n",
    "using static Microsoft.DotNet.Interactive.Formatting.PocketViewTags;\n",
    "using Microsoft.DotNet.Interactive.Formatting;\n",
    "using Microsoft.Data.Analysis;\n",
    "using XPlot.Plotly;\n",
    "using Microsoft.AspNetCore.Html;"
   ],
   "outputs": [],
   "metadata": {
    "dotnet_interactive": {
     "language": "csharp"
    }
   }
  },
  {
   "cell_type": "markdown",
   "source": [
    "Now define a formatter for the training data we are going to load."
   ],
   "metadata": {}
  },
  {
   "cell_type": "code",
   "execution_count": null,
   "source": [
    "Formatter.Register<DataFrame>((dataFrame, writer) =>\n",
    "{\n",
    "    var headers = new List<IHtmlContent>();\n",
    "    headers.Add(th(i(\"index\")));\n",
    "    headers.AddRange(dataFrame.Columns.Select(col => (IHtmlContent) th(col.Name)));\n",
    "    var rows = new List<List<IHtmlContent>>();\n",
    "    var take = Math.Min(20, dataFrame.Rows.Count);\n",
    "    for (var i = 0; i < take; i++)\n",
    "    {\n",
    "        var cells = new List<IHtmlContent>();\n",
    "        cells.Add(td(i));\n",
    "        foreach (var item in dataFrame.Rows[i])\n",
    "        {\n",
    "            cells.Add(td(item));\n",
    "        }\n",
    "        rows.Add(cells);\n",
    "    }\n",
    "    \n",
    "    var t = table(\n",
    "        thead(\n",
    "            headers),\n",
    "        tbody(\n",
    "            rows.Select(\n",
    "                r => tr(r))));\n",
    "    \n",
    "    writer.Write(t);\n",
    "}, \"text/html\");"
   ],
   "outputs": [],
   "metadata": {
    "dotnet_interactive": {
     "language": "csharp"
    }
   }
  },
  {
   "cell_type": "markdown",
   "source": [
    "Fetch and save the data file if we do not already have it locally (you will need a kaggle account to download this data)."
   ],
   "metadata": {}
  },
  {
   "cell_type": "code",
   "execution_count": null,
   "source": [
    "string dataFilePath = \"titanic.zip\";\n",
    "\n",
    "if (!File.Exists(dataFilePath))\n",
    "{\n",
    "    var contents = await new HttpClient()\n",
    "        .GetStringAsync(\"https://www.kaggle.com/hesh97/titanicdataset-traincsv/download\");\n",
    "        \n",
    "    File.WriteAllText(\"titanic.zip\", contents);\n",
    "}"
   ],
   "outputs": [],
   "metadata": {
    "dotnet_interactive": {
     "language": "csharp"
    }
   }
  },
  {
   "cell_type": "markdown",
   "source": [
    "Let's take a look at what the data looks like using some of the dataframe builtin functionality. From this we can see the column labels and some statistics on the data. We can see the first lines of the file using ```display(titanicData.Display());```. We can also use ```display(titanicData.Info());``` to get column datatypes. If you are running this as an interactive notebook you can try these for yourself. "
   ],
   "metadata": {}
  },
  {
   "cell_type": "code",
   "execution_count": null,
   "source": [
    "var titanicData = DataFrame.LoadCsv(\"train2.csv\");\n",
    "display(titanicData.Info());"
   ],
   "outputs": [],
   "metadata": {
    "dotnet_interactive": {
     "language": "csharp"
    }
   }
  },
  {
   "cell_type": "markdown",
   "source": [
    "We have imported charting capabilities so lets take a look at one of the columns visually."
   ],
   "metadata": {}
  },
  {
   "cell_type": "code",
   "execution_count": null,
   "source": [
    "Chart.Plot(\n",
    "    new Histogram()\n",
    "    {\n",
    "        x = titanicData.Columns[\"Age\"],\n",
    "        nbinsx = 20\n",
    "    }\n",
    ")"
   ],
   "outputs": [],
   "metadata": {
    "dotnet_interactive": {
     "language": "csharp"
    }
   }
  },
  {
   "cell_type": "markdown",
   "source": [
    "So that gave us the age demographics across the passengers. "
   ],
   "metadata": {}
  },
  {
   "cell_type": "code",
   "execution_count": null,
   "source": [
    "var chart = Chart.Plot(\n",
    "    new Scattergl()\n",
    "    {\n",
    "        x = titanicData.Columns[\"Age\"],\n",
    "        y = titanicData.Columns[\"Sex\"],\n",
    "        mode = \"markers\",\n",
    "        marker = new Marker()\n",
    "        {\n",
    "            color = titanicData.Columns[\"Survived\"],\n",
    "            colorscale = \"Jet\"\n",
    "        }\n",
    "    }\n",
    ");\n",
    "\n",
    "chart.Width = 800;\n",
    "chart.Height = 600;\n",
    "display(chart)"
   ],
   "outputs": [],
   "metadata": {
    "dotnet_interactive": {
     "language": "csharp"
    }
   }
  },
  {
   "cell_type": "markdown",
   "source": [
    "Now that we have an idea of what the basic data looks like let's prepare our training and test data. Remember we want two seperate datasets to allow us to validate out model more thoroughly. We are going to randomize the data and split off 15% to use as test data and use the remainder as our training data. You can experiment with using smaller or larger training datasets. "
   ],
   "metadata": {}
  },
  {
   "cell_type": "code",
   "execution_count": null,
   "source": [
    "static T[] Shuffle<T>(T[] array)\n",
    "{\n",
    "    Random rand = new Random();\n",
    "    for (int i = 0; i < array.Length; i++)\n",
    "    {\n",
    "        int r = i + rand.Next(array.Length - i);\n",
    "        T temp = array[r];\n",
    "        array[r] = array[i];\n",
    "        array[i] = temp;\n",
    "    }\n",
    "    return array;\n",
    "}\n",
    "\n",
    "int[] randomIndices = Shuffle(Enumerable.Range(0, (int)titanicData.Rows.Count).ToArray());\n",
    "int testSize = (int)(titanicData.Rows.Count * .15);\n",
    "int[] trainRows = randomIndices[testSize..];\n",
    "int[] testRows = randomIndices[..testSize];\n",
    "\n",
    "//Split the data into training and test data frames\n",
    "DataFrame trainingData = titanicData[trainRows];\n",
    "DataFrame testData = titanicData[testRows];\n",
    "\n",
    "\n",
    "// Output our row counts\n",
    "display($\"Training row count {trainingData.Rows.Count}\");\n",
    "display($\"Testing row count {testData.Rows.Count}\");"
   ],
   "outputs": [],
   "metadata": {
    "dotnet_interactive": {
     "language": "csharp"
    }
   }
  },
  {
   "cell_type": "markdown",
   "source": [
    "So we have 758 rows of training data and 133 rows of test data. We can now train our model to predict ```Survived```. We set an experiment time of 15 seconds for this iteration but as with dataset size you can experiment with longer/shorter periods to explore the effect on model accuracy. This is a binary problem so we use a binary classifier to train the model"
   ],
   "metadata": {}
  },
  {
   "cell_type": "code",
   "execution_count": null,
   "source": [
    "#!time\n",
    "\n",
    "using Microsoft.ML;\n",
    "using Microsoft.ML.Data;\n",
    "using Microsoft.ML.AutoML;\n",
    "\n",
    "var mlContext = new MLContext();\n",
    "\n",
    "var experiment = mlContext.Auto().CreateBinaryClassificationExperiment(maxExperimentTimeInSeconds: 15);\n",
    "// Train the model to predicted the value in the 'Survived' column based on the other values \n",
    "var result = experiment.Execute(trainingData, labelColumnName:\"Survived\");"
   ],
   "outputs": [],
   "metadata": {
    "dotnet_interactive": {
     "language": "csharp"
    }
   }
  },
  {
   "cell_type": "markdown",
   "source": [
    "What happened there? The output wall time was much longer than the 15 seconds we specified. That's because mlnet automatically evaluates multiple algorithms so the process takes a little longer. Now that we have a model let's take a look at some of the algorithms that were evaluated and their error scores. From these scores er can see SdcaLogisticRegressionBinary was the most accurate algorithhm for this training session."
   ],
   "metadata": {}
  },
  {
   "cell_type": "code",
   "execution_count": null,
   "source": [
    "var scatters = result.RunDetails.Where(d => d.ValidationMetrics != null).GroupBy(\n",
    "    r => r.TrainerName,\n",
    "    (name, details) => new Scattergl()\n",
    "    {\n",
    "        name = name,\n",
    "        x = details.Select(r => r.RuntimeInSeconds),\n",
    "        y = details.Select(r => r.ValidationMetrics.Accuracy),\n",
    "        mode = \"markers\",\n",
    "        marker = new Marker() { size = 12 }\n",
    "    });\n",
    "\n",
    "var chart = Chart.Plot(scatters);\n",
    "chart.WithXTitle(\"Training Time\");\n",
    "chart.WithYTitle(\"Error\");\n",
    "display(chart);\n",
    "\n",
    "Console.WriteLine($\"Best Trainer:{result.BestRun.TrainerName}\")"
   ],
   "outputs": [],
   "metadata": {
    "dotnet_interactive": {
     "language": "csharp"
    }
   }
  },
  {
   "cell_type": "markdown",
   "source": [
    "Now lets see how we perform against our training data set (data which the model has not previously seen) so we can make a more realistic assessment of our models accuracy."
   ],
   "metadata": {}
  },
  {
   "cell_type": "code",
   "execution_count": null,
   "source": [
    "var testResults = result.BestRun.Model.Transform(trainingData);\n",
    "\n",
    "var actualValues = testResults.GetColumn<bool>(\"Survived\");\n",
    "var predictedValues = testResults.GetColumn<float>(\"Score\");\n",
    "\n",
    "var predictedVsActual = new Scattergl()\n",
    "{\n",
    "    x = actualValues,\n",
    "    y = predictedValues,\n",
    "    mode = \"markers\",\n",
    "};\n",
    "\n",
    "var maximumValue = 1;//Math.Max(actualValues.Max(), predictedValues.Max());\n",
    "\n",
    "var perfectLine = new Plot()\n",
    "{\n",
    "    x = new[] {0, maximumValue},\n",
    "    y = new[] {0, maximumValue},\n",
    "    mode = \"lines\",\n",
    "};\n",
    "\n",
    "var chart = Chart.Plot(new[] {predictedVsActual, perfectLine });\n",
    "chart.WithXTitle(\"Actual Values\");\n",
    "chart.WithYTitle(\"Predicted Values\");\n",
    "chart.WithLegend(true);\n",
    "chart.Width = 800;\n",
    "chart.Height = 600;\n",
    "display(chart);"
   ],
   "outputs": [],
   "metadata": {
    "dotnet_interactive": {
     "language": "csharp"
    }
   }
  }
 ],
 "nbformat": 4,
 "nbformat_minor": 2
}