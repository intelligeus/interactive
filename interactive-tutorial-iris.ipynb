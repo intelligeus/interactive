{
 "metadata": {
  "kernelspec": {
   "display_name": ".NET (C#)",
   "language": "C#",
   "name": ".net-csharp"
  },
  "language_info": {
   "name": "C#"
  }
 },
 "cells": [
  {
   "cell_type": "markdown",
   "source": [
    "# Iris Classification\n",
    "\n",
    "Lets take a look at the well known Iris classification dataset as our entrypoint to interactive notebooks.\n",
    "\n",
    "We begin by getting our nuget packages and importing some dependencies we will use. "
   ],
   "metadata": {}
  },
  {
   "cell_type": "code",
   "execution_count": null,
   "source": [
    "#i \"nuget:https://pkgs.dev.azure.com/dnceng/public/_packaging/dotnet5/nuget/v3/index.json\" \n",
    "#i \"nuget:https://pkgs.dev.azure.com/dnceng/public/_packaging/dotnet-tools/nuget/v3/index.json\" \n",
    "\n",
    "#r \"nuget:Microsoft.ML, 1.6.0\"\n",
    "#r \"nuget:Microsoft.ML.AutoML, 0.18.0\"\n",
    "#r \"nuget:Microsoft.Data.Analysis, 0.18.0\"\n",
    "#r \"nuget: XPlot.Plotly.Interactive, 4.0.2\""
   ],
   "outputs": [
    {
     "data": {
      "text/html": [
       "<div><div><strong>Restore sources</strong><ul><li><span>https://pkgs.dev.azure.com/dnceng/public/_packaging/dotnet-tools/nuget/v3/index.json</span></li><li><span>https://pkgs.dev.azure.com/dnceng/public/_packaging/dotnet5/nuget/v3/index.json</span></li></ul></div><div></div><div><strong>Installed Packages</strong><ul><li><span>Microsoft.Data.Analysis, 0.18.0</span></li><li><span>Microsoft.ML, 1.6.0</span></li><li><span>Microsoft.ML.AutoML, 0.18.0</span></li><li><span>XPlot.Plotly.Interactive, 4.0.2</span></li></ul></div></div>"
      ]
     },
     "metadata": {},
     "output_type": "display_data"
    },
    {
     "data": {
      "text/markdown": [
       "Loading extensions from `Microsoft.Data.Analysis.Interactive.dll`"
      ]
     },
     "metadata": {},
     "output_type": "display_data"
    },
    {
     "data": {
      "text/markdown": [
       "Loading extensions from `XPlot.Plotly.Interactive.dll`"
      ]
     },
     "metadata": {},
     "output_type": "display_data"
    },
    {
     "data": {
      "text/markdown": [
       "Configuring PowerShell Kernel for XPlot.Plotly integration."
      ]
     },
     "metadata": {},
     "output_type": "display_data"
    },
    {
     "data": {
      "text/markdown": [
       "Installed support for XPlot.Plotly."
      ]
     },
     "metadata": {},
     "output_type": "display_data"
    }
   ],
   "metadata": {
    "dotnet_interactive": {
     "language": "csharp"
    }
   }
  },
  {
   "cell_type": "markdown",
   "source": [],
   "metadata": {}
  },
  {
   "cell_type": "markdown",
   "source": [
    "Let's put the majority of our imports here upfront, for clarity we leave the mlnet imports till later when we come to training our model. "
   ],
   "metadata": {}
  },
  {
   "cell_type": "code",
   "execution_count": null,
   "source": [
    "using System.IO;\n",
    "using System.Net.Http;\n",
    "using static Microsoft.DotNet.Interactive.Formatting.PocketViewTags;\n",
    "using Microsoft.DotNet.Interactive.Formatting;\n",
    "using Microsoft.Data.Analysis;\n",
    "using XPlot.Plotly;\n",
    "using Microsoft.AspNetCore.Html;"
   ],
   "outputs": [],
   "metadata": {
    "dotnet_interactive": {
     "language": "csharp"
    }
   }
  },
  {
   "cell_type": "markdown",
   "source": [
    "Now define a formatter for the training data we are going to load so the data is more presentable."
   ],
   "metadata": {}
  },
  {
   "cell_type": "code",
   "execution_count": null,
   "source": [
    "Formatter.Register<DataFrame>((df, writer) =>\n",
    "{\n",
    "    var headers = new List<IHtmlContent>();\n",
    "    headers.Add(th(i(\"index\")));\n",
    "    headers.AddRange(df.Columns.Select(c => (IHtmlContent) th(c.Name)));\n",
    "    var rows = new List<List<IHtmlContent>>();\n",
    "    var take = 20;\n",
    "    for (var i = 0; i < Math.Min(take, df.Rows.Count); i++)\n",
    "    {\n",
    "        var cells = new List<IHtmlContent>();\n",
    "        cells.Add(td(i));\n",
    "        foreach (var obj in df.Rows[i])\n",
    "        {\n",
    "            cells.Add(td(obj));\n",
    "        }\n",
    "        rows.Add(cells);\n",
    "    }\n",
    "    \n",
    "    var t = table(\n",
    "        thead(\n",
    "            headers),\n",
    "        tbody(\n",
    "            rows.Select(\n",
    "                r => tr(r))));\n",
    "    \n",
    "    writer.Write(t);\n",
    "}, \"text/html\");"
   ],
   "outputs": [],
   "metadata": {
    "dotnet_interactive": {
     "language": "csharp"
    }
   }
  },
  {
   "cell_type": "markdown",
   "source": [
    "Fetch and save the data file if we do not already have it locally."
   ],
   "metadata": {}
  },
  {
   "cell_type": "code",
   "execution_count": null,
   "source": [
    "string irisPath = \"iris.csv\";\n",
    "\n",
    "if (!File.Exists(irisPath))\n",
    "{\n",
    "    var contents = await new HttpClient()\n",
    "        .GetStringAsync(\"https://datahub.io/machine-learning/iris/r/iris.csv\");\n",
    "        \n",
    "    File.WriteAllText(\"iris.csv\", contents);\n",
    "}"
   ],
   "outputs": [],
   "metadata": {
    "dotnet_interactive": {
     "language": "csharp"
    }
   }
  },
  {
   "cell_type": "markdown",
   "source": [
    "Let's take a look at what the data looks like using some of the dataframe builtin functionality. From this we can see the column labels and some statistics on the data. We can see the first five lines of the file using ```display(irisData.Head(5));```. We can also use ```display(irisData.Info());``` to get column datatypes, if you are running this as an interative notebook you can try these for yourself. "
   ],
   "metadata": {}
  },
  {
   "cell_type": "code",
   "execution_count": null,
   "source": [
    "var irisData = DataFrame.LoadCsv(irisPath);\n",
    "display(irisData.Head(5));\n"
   ],
   "outputs": [],
   "metadata": {
    "dotnet_interactive": {
     "language": "csharp"
    }
   }
  },
  {
   "cell_type": "markdown",
   "source": [
    "So we can see we have 6 columns, index is a convenience colum so we are interested in sepallength, sepalwidth, petallength, petalwidth as our features and class is the value we will be trying to forecast."
   ],
   "metadata": {}
  },
  {
   "cell_type": "markdown",
   "source": [
    "We have imported charting capabilities so lets take a look at one of the columns visually."
   ],
   "metadata": {}
  },
  {
   "cell_type": "code",
   "execution_count": null,
   "source": [
    "Chart.Plot(\n",
    "    new Histogram()\n",
    "    {\n",
    "        x = irisData.Columns[\"sepallength\"],\n",
    "        nbinsx = 20\n",
    "    }\n",
    ")"
   ],
   "outputs": [],
   "metadata": {
    "dotnet_interactive": {
     "language": "csharp"
    }
   }
  },
  {
   "cell_type": "markdown",
   "source": [
    "So that gave us a graph of the sepallength column. Lets see what the data types are for each column"
   ],
   "metadata": {}
  },
  {
   "cell_type": "code",
   "execution_count": null,
   "source": [
    "display(irisData.Info());"
   ],
   "outputs": [],
   "metadata": {
    "dotnet_interactive": {
     "language": "csharp"
    }
   }
  },
  {
   "cell_type": "markdown",
   "source": [
    "So out data type is 'Single' amnd we have 150 values in each column.\n",
    "\n",
    "Now that we have an idea of what the basic data looks like let's prepare our training and test data. Remember we want two seperate datasets to allow us to validate out model more thoroughly. We are going to randomize the data and split off 15% to use as test data and use the remainder as our training data. You can experiment with using smaller or larger training datasets. "
   ],
   "metadata": {}
  },
  {
   "cell_type": "code",
   "execution_count": null,
   "source": [
    "static T[] Shuffle<T>(T[] array)\n",
    "{\n",
    "    Random rand = new Random();\n",
    "    for (int i = 0; i < array.Length; i++)\n",
    "    {\n",
    "        int r = i + rand.Next(array.Length - i);\n",
    "        T temp = array[r];\n",
    "        array[r] = array[i];\n",
    "        array[i] = temp;\n",
    "    }\n",
    "    return array;\n",
    "}\n",
    "\n",
    "int[] randomIndices = Shuffle(Enumerable.Range(0, (int)irisData.Rows.Count).ToArray());\n",
    "int testSize = (int)(irisData.Rows.Count * .15);\n",
    "int[] trainRows = randomIndices[testSize..];\n",
    "int[] testRows = randomIndices[..testSize];\n",
    "\n",
    "DataFrame trainingData = irisData[trainRows];\n",
    "DataFrame testData = irisData[testRows];\n",
    "\n",
    "display($\"Training row count {trainingData.Rows.Count}\");\n",
    "display($\"Testing row count {testData.Rows.Count}\");"
   ],
   "outputs": [],
   "metadata": {
    "dotnet_interactive": {
     "language": "csharp"
    }
   }
  },
  {
   "cell_type": "markdown",
   "source": [
    "Now we can train our model to predict ```class```. We set an experiment time of 15 seconds for this iteration but as with dataset size you can experiment with longer/shorter periods to explore the effect on model accuracy. We have three possible values as forecasts from the labels in the datafile so this is not a <span>Binary Classification</span> problem. We have multiple possible answers so we use '''MulticlassClassification''' as our experiment. "
   ],
   "metadata": {}
  },
  {
   "cell_type": "code",
   "execution_count": null,
   "source": [
    "#!time\n",
    "\n",
    "using Microsoft.ML;\n",
    "using Microsoft.ML.Data;\n",
    "using Microsoft.ML.AutoML;\n",
    "\n",
    "var mlContext = new MLContext();\n",
    "\n",
    "var experiment = mlContext.Auto().CreateMulticlassClassificationExperiment(maxExperimentTimeInSeconds: 15);\n",
    "var result = experiment.Execute(trainingData, labelColumnName:\"class\");"
   ],
   "outputs": [],
   "metadata": {
    "dotnet_interactive": {
     "language": "csharp"
    }
   }
  },
  {
   "cell_type": "markdown",
   "source": [
    "OK so training takes much longer than the 15 seconds we specified. That's because mlnet automatically evaluates multiple algorithms so the process takes a little longer. Now that we have a model let's take a look at some of the algorithms that were evaluated and their error scores. From these scores we can see SdcaMaximumEntropyMulti was the most accurate algorithhm."
   ],
   "metadata": {}
  },
  {
   "cell_type": "code",
   "execution_count": null,
   "source": [
    "var scatters = result.RunDetails.Where(d => d.ValidationMetrics != null).GroupBy(\n",
    "    r => r.TrainerName,\n",
    "    (name, details) => new Scattergl()\n",
    "    {\n",
    "        name = name,\n",
    "        x = details.Select(r => r.RuntimeInSeconds),\n",
    "        y = details.Select(r => r.ValidationMetrics.MacroAccuracy),\n",
    "        mode = \"markers\",\n",
    "        marker = new Marker() { size = 12 }\n",
    "    });\n",
    "\n",
    "var chart = Chart.Plot(scatters);\n",
    "chart.WithXTitle(\"Training Time\");\n",
    "chart.WithYTitle(\"Macro Accuracy\");\n",
    "display(chart);\n",
    "\n",
    "Console.WriteLine($\"Best Trainer:{result.BestRun.TrainerName} Macro Accuracy: {result.BestRun.ValidationMetrics.MacroAccuracy * 100} %\")"
   ],
   "outputs": [],
   "metadata": {
    "dotnet_interactive": {
     "language": "csharp"
    }
   }
  },
  {
   "cell_type": "markdown",
   "source": [
    "Now lets see how we perform against our training data set (data which the model has not previously seen) so we can make a more realistic assessment of our models accuracy."
   ],
   "metadata": {}
  },
  {
   "cell_type": "code",
   "execution_count": null,
   "source": [
    "var evaluationData = result.BestRun.Model.Transform(testData);\n",
    "\n",
    "\n",
    "var evaluationMetrics = mlContext.MulticlassClassification.Evaluate(evaluationData, labelColumnName:\"class\");\n",
    "\n",
    "Console.WriteLine($\"Model predicted on test data with Macro Accuracy of {evaluationMetrics.MacroAccuracy * 100} %\");\n"
   ],
   "outputs": [],
   "metadata": {
    "dotnet_interactive": {
     "language": "csharp"
    }
   }
  },
  {
   "cell_type": "markdown",
   "source": [
    "So we can see our results on the test data are not quite as good as on the training data. This is to be expected as the model gains 'experience' with the training data over each iteration.\n",
    "\n",
    "\n",
    "Lets try another approach. Instead of using a MulticlasClassification lets tell the model we want to use. We are going to use KMeans to train a model to predict one of three clusters."
   ],
   "metadata": {}
  },
  {
   "cell_type": "code",
   "execution_count": null,
   "source": [
    "var features = \"Features\";\n",
    "\n",
    "var pipeline = mlContext.Transforms\n",
    "    .Concatenate(features, \"sepallength\", \"sepalwidth\", \"petallength\", \"petalwidth\")\n",
    "    .Append(mlContext.Clustering.Trainers.KMeans(features, numberOfClusters: 3));\n",
    "\n",
    "\n",
    "var model = pipeline.Fit(trainingData);\n",
    "\n",
    "public class IrisData\n",
    "{\n",
    "\n",
    "    public float sepallength;\n",
    "\n",
    "    public float sepalwidth;\n",
    "\n",
    "    public float petallength;\n",
    "    public float petalwidth;\n",
    "} \n",
    "\n",
    "public class ClusterPrediction\n",
    "{\n",
    "    [ColumnName(\"PredictedLabel\")]\n",
    "    public uint PredictedCluster;\n",
    "\n",
    "    [ColumnName(\"Score\")]\n",
    "    public float[] Distances;\n",
    "}\n",
    "\n",
    "var predictor = mlContext.Model.CreatePredictionEngine<IrisData, ClusterPrediction>(model);\n",
    "\n",
    "var prediction = predictor.Predict(new IrisData() {sepallength = 6.7F, sepalwidth = 3.0F, petallength = 5.2F, petalwidth = 2.3F});\n",
    "Console.WriteLine($\"Predicted cluster is: {prediction.PredictedCluster}\");\n"
   ],
   "outputs": [],
   "metadata": {
    "dotnet_interactive": {
     "language": "csharp"
    }
   }
  },
  {
   "cell_type": "markdown",
   "source": [
    "So the model has predicted the correct cluster for our test case. Lets try again with a different iris from cluster 1."
   ],
   "metadata": {}
  },
  {
   "cell_type": "code",
   "execution_count": null,
   "source": [
    "prediction = predictor.Predict(new IrisData() {sepallength = 4.3F, sepalwidth = 3.0F, petallength = 1.1F, petalwidth = 0.1F});\n",
    "Console.WriteLine($\"Predicted cluster is: {prediction.PredictedCluster}\");\n",
    "\n"
   ],
   "outputs": [],
   "metadata": {
    "dotnet_interactive": {
     "language": "csharp"
    }
   }
  }
 ],
 "nbformat": 4,
 "nbformat_minor": 2
}